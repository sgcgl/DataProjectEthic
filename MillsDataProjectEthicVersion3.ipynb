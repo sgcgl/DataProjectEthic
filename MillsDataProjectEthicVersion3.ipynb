{
 "cells": [
  {
   "cell_type": "markdown",
   "metadata": {},
   "source": [
    "resource : https://worldpopulationreview.com/country-rankings/facebook-users-by-country\n",
    "\n"
   ]
  },
  {
   "cell_type": "code",
   "execution_count": 3,
   "metadata": {},
   "outputs": [],
   "source": [
    "import pandas as pd\n",
    "import numpy as np\n",
    "import matplotlib.pyplot as plt\n",
    "%matplotlib inline\n"
   ]
  },
  {
   "cell_type": "markdown",
   "metadata": {},
   "source": [
    "As one of the most popular social media platforms, Facebook has users across the world.\n",
    "\n",
    "Using pandas read the 'FacebookUsersByCountry2020.csv' file, and display all the data"
   ]
  },
  {
   "cell_type": "code",
   "execution_count": 4,
   "metadata": {},
   "outputs": [
    {
     "data": {
      "text/html": [
       "<div>\n",
       "<style scoped>\n",
       "    .dataframe tbody tr th:only-of-type {\n",
       "        vertical-align: middle;\n",
       "    }\n",
       "\n",
       "    .dataframe tbody tr th {\n",
       "        vertical-align: top;\n",
       "    }\n",
       "\n",
       "    .dataframe thead th {\n",
       "        text-align: right;\n",
       "    }\n",
       "</style>\n",
       "<table border=\"1\" class=\"dataframe\">\n",
       "  <thead>\n",
       "    <tr style=\"text-align: right;\">\n",
       "      <th></th>\n",
       "      <th>country</th>\n",
       "      <th>facebookUsers</th>\n",
       "      <th>pop2020</th>\n",
       "    </tr>\n",
       "  </thead>\n",
       "  <tbody>\n",
       "    <tr>\n",
       "      <th>0</th>\n",
       "      <td>India</td>\n",
       "      <td>251000000.0</td>\n",
       "      <td>1380004.385</td>\n",
       "    </tr>\n",
       "    <tr>\n",
       "      <th>1</th>\n",
       "      <td>United States</td>\n",
       "      <td>240000000.0</td>\n",
       "      <td>331002.651</td>\n",
       "    </tr>\n",
       "    <tr>\n",
       "      <th>2</th>\n",
       "      <td>Brazil</td>\n",
       "      <td>139000000.0</td>\n",
       "      <td>212559.417</td>\n",
       "    </tr>\n",
       "    <tr>\n",
       "      <th>3</th>\n",
       "      <td>Indonesia</td>\n",
       "      <td>136960000.0</td>\n",
       "      <td>273523.615</td>\n",
       "    </tr>\n",
       "    <tr>\n",
       "      <th>4</th>\n",
       "      <td>Mexico</td>\n",
       "      <td>78000000.0</td>\n",
       "      <td>128932.753</td>\n",
       "    </tr>\n",
       "    <tr>\n",
       "      <th>...</th>\n",
       "      <td>...</td>\n",
       "      <td>...</td>\n",
       "      <td>...</td>\n",
       "    </tr>\n",
       "    <tr>\n",
       "      <th>223</th>\n",
       "      <td>Tuvalu</td>\n",
       "      <td>1700.0</td>\n",
       "      <td>11.792</td>\n",
       "    </tr>\n",
       "    <tr>\n",
       "      <th>224</th>\n",
       "      <td>Niue</td>\n",
       "      <td>820.0</td>\n",
       "      <td>1.626</td>\n",
       "    </tr>\n",
       "    <tr>\n",
       "      <th>225</th>\n",
       "      <td>Tokelau</td>\n",
       "      <td>410.0</td>\n",
       "      <td>1.357</td>\n",
       "    </tr>\n",
       "    <tr>\n",
       "      <th>226</th>\n",
       "      <td>Vatican City</td>\n",
       "      <td>20.0</td>\n",
       "      <td>0.801</td>\n",
       "    </tr>\n",
       "    <tr>\n",
       "      <th>227</th>\n",
       "      <td>Cuba</td>\n",
       "      <td>NaN</td>\n",
       "      <td>11326.616</td>\n",
       "    </tr>\n",
       "  </tbody>\n",
       "</table>\n",
       "<p>228 rows × 3 columns</p>\n",
       "</div>"
      ],
      "text/plain": [
       "           country  facebookUsers      pop2020\n",
       "0            India    251000000.0  1380004.385\n",
       "1    United States    240000000.0   331002.651\n",
       "2           Brazil    139000000.0   212559.417\n",
       "3        Indonesia    136960000.0   273523.615\n",
       "4           Mexico     78000000.0   128932.753\n",
       "..             ...            ...          ...\n",
       "223         Tuvalu         1700.0       11.792\n",
       "224           Niue          820.0        1.626\n",
       "225        Tokelau          410.0        1.357\n",
       "226   Vatican City           20.0        0.801\n",
       "227           Cuba            NaN    11326.616\n",
       "\n",
       "[228 rows x 3 columns]"
      ]
     },
     "execution_count": 4,
     "metadata": {},
     "output_type": "execute_result"
    }
   ],
   "source": [
    "df = pd.read_csv('FacebookUsersByCountry2020.csv')\n",
    "df"
   ]
  },
  {
   "cell_type": "code",
   "execution_count": 5,
   "metadata": {},
   "outputs": [],
   "source": [
    "\n",
    "df['facebookUsersInMillion']=df['facebookUsers']/10000000\n",
    "df['pop2020InMillion']= df['pop2020']/10000\n",
    "df= df[['country', 'facebookUsersInMillion', 'pop2020InMillion']]"
   ]
  },
  {
   "cell_type": "code",
   "execution_count": 6,
   "metadata": {},
   "outputs": [
    {
     "data": {
      "text/html": [
       "<div>\n",
       "<style scoped>\n",
       "    .dataframe tbody tr th:only-of-type {\n",
       "        vertical-align: middle;\n",
       "    }\n",
       "\n",
       "    .dataframe tbody tr th {\n",
       "        vertical-align: top;\n",
       "    }\n",
       "\n",
       "    .dataframe thead th {\n",
       "        text-align: right;\n",
       "    }\n",
       "</style>\n",
       "<table border=\"1\" class=\"dataframe\">\n",
       "  <thead>\n",
       "    <tr style=\"text-align: right;\">\n",
       "      <th></th>\n",
       "      <th>country</th>\n",
       "      <th>facebookUsersInMillion</th>\n",
       "      <th>pop2020InMillion</th>\n",
       "    </tr>\n",
       "  </thead>\n",
       "  <tbody>\n",
       "    <tr>\n",
       "      <th>0</th>\n",
       "      <td>India</td>\n",
       "      <td>25.100000</td>\n",
       "      <td>138.000439</td>\n",
       "    </tr>\n",
       "    <tr>\n",
       "      <th>1</th>\n",
       "      <td>United States</td>\n",
       "      <td>24.000000</td>\n",
       "      <td>33.100265</td>\n",
       "    </tr>\n",
       "    <tr>\n",
       "      <th>2</th>\n",
       "      <td>Brazil</td>\n",
       "      <td>13.900000</td>\n",
       "      <td>21.255942</td>\n",
       "    </tr>\n",
       "    <tr>\n",
       "      <th>3</th>\n",
       "      <td>Indonesia</td>\n",
       "      <td>13.696000</td>\n",
       "      <td>27.352362</td>\n",
       "    </tr>\n",
       "    <tr>\n",
       "      <th>4</th>\n",
       "      <td>Mexico</td>\n",
       "      <td>7.800000</td>\n",
       "      <td>12.893275</td>\n",
       "    </tr>\n",
       "    <tr>\n",
       "      <th>...</th>\n",
       "      <td>...</td>\n",
       "      <td>...</td>\n",
       "      <td>...</td>\n",
       "    </tr>\n",
       "    <tr>\n",
       "      <th>223</th>\n",
       "      <td>Tuvalu</td>\n",
       "      <td>0.000170</td>\n",
       "      <td>0.001179</td>\n",
       "    </tr>\n",
       "    <tr>\n",
       "      <th>224</th>\n",
       "      <td>Niue</td>\n",
       "      <td>0.000082</td>\n",
       "      <td>0.000163</td>\n",
       "    </tr>\n",
       "    <tr>\n",
       "      <th>225</th>\n",
       "      <td>Tokelau</td>\n",
       "      <td>0.000041</td>\n",
       "      <td>0.000136</td>\n",
       "    </tr>\n",
       "    <tr>\n",
       "      <th>226</th>\n",
       "      <td>Vatican City</td>\n",
       "      <td>0.000002</td>\n",
       "      <td>0.000080</td>\n",
       "    </tr>\n",
       "    <tr>\n",
       "      <th>227</th>\n",
       "      <td>Cuba</td>\n",
       "      <td>NaN</td>\n",
       "      <td>1.132662</td>\n",
       "    </tr>\n",
       "  </tbody>\n",
       "</table>\n",
       "<p>228 rows × 3 columns</p>\n",
       "</div>"
      ],
      "text/plain": [
       "           country  facebookUsersInMillion  pop2020InMillion\n",
       "0            India               25.100000        138.000439\n",
       "1    United States               24.000000         33.100265\n",
       "2           Brazil               13.900000         21.255942\n",
       "3        Indonesia               13.696000         27.352362\n",
       "4           Mexico                7.800000         12.893275\n",
       "..             ...                     ...               ...\n",
       "223         Tuvalu                0.000170          0.001179\n",
       "224           Niue                0.000082          0.000163\n",
       "225        Tokelau                0.000041          0.000136\n",
       "226   Vatican City                0.000002          0.000080\n",
       "227           Cuba                     NaN          1.132662\n",
       "\n",
       "[228 rows x 3 columns]"
      ]
     },
     "execution_count": 6,
     "metadata": {},
     "output_type": "execute_result"
    }
   ],
   "source": [
    "df"
   ]
  },
  {
   "cell_type": "markdown",
   "metadata": {},
   "source": [
    "Display in a bar graph only the top 10 countries with columns country and facebookUsers"
   ]
  },
  {
   "cell_type": "code",
   "execution_count": 7,
   "metadata": {},
   "outputs": [
    {
     "data": {
      "image/png": "[encoded data removed]",
      "text/plain": [
       "<Figure size 432x288 with 1 Axes>"
      ]
     },
     "metadata": {
      "needs_background": "light"
     },
     "output_type": "display_data"
    }
   ],
   "source": [
    "topCountryUsers = df.head(10)\n",
    "topCountryUsers.plot(kind='bar',x='country',y='facebookUsersInMillion',color='green')\n",
    "plt.ylabel(\"Facebook Users Millions\")\n",
    "plt.show()"
   ]
  },
  {
   "cell_type": "markdown",
   "metadata": {},
   "source": [
    "Display in a bar graph only the top 10 countries with columns facebookUsers and pop2020"
   ]
  },
  {
   "cell_type": "code",
   "execution_count": 8,
   "metadata": {},
   "outputs": [
    {
     "data": {
      "image/png": "[encoded data removed]",
      "text/plain": [
       "<Figure size 432x288 with 1 Axes>"
      ]
     },
     "metadata": {
      "needs_background": "light"
     },
     "output_type": "display_data"
    }
   ],
   "source": [
    "topCountryUsers = df.head(10)\n",
    "topCountryUsers.plot(kind='bar',x='country',y='pop2020InMillion',color='red')\n",
    "plt.ylabel(\"Population Millions\")\n",
    "plt.show()"
   ]
  },
  {
   "cell_type": "markdown",
   "metadata": {},
   "source": [
    "Now, using the top 10 dataframe table, display the percentage of facebookUsers in each country based on their respective population."
   ]
  },
  {
   "cell_type": "code",
   "execution_count": 9,
   "metadata": {},
   "outputs": [
    {
     "name": "stderr",
     "output_type": "stream",
     "text": [
      "<ipython-input-9-153bb56c6104>:1: SettingWithCopyWarning: \n",
      "A value is trying to be set on a copy of a slice from a DataFrame.\n",
      "Try using .loc[row_indexer,col_indexer] = value instead\n",
      "\n",
      "See the caveats in the documentation: https://pandas.pydata.org/pandas-docs/stable/user_guide/indexing.html#returning-a-view-versus-a-copy\n",
      "  df['rate'] = df['facebookUsersInMillion']/df['pop2020InMillion']\n"
     ]
    },
    {
     "data": {
      "text/html": [
       "<div>\n",
       "<style scoped>\n",
       "    .dataframe tbody tr th:only-of-type {\n",
       "        vertical-align: middle;\n",
       "    }\n",
       "\n",
       "    .dataframe tbody tr th {\n",
       "        vertical-align: top;\n",
       "    }\n",
       "\n",
       "    .dataframe thead th {\n",
       "        text-align: right;\n",
       "    }\n",
       "</style>\n",
       "<table border=\"1\" class=\"dataframe\">\n",
       "  <thead>\n",
       "    <tr style=\"text-align: right;\">\n",
       "      <th></th>\n",
       "      <th>country</th>\n",
       "      <th>facebookUsersInMillion</th>\n",
       "      <th>rate</th>\n",
       "    </tr>\n",
       "  </thead>\n",
       "  <tbody>\n",
       "    <tr>\n",
       "      <th>0</th>\n",
       "      <td>India</td>\n",
       "      <td>25.100000</td>\n",
       "      <td>0.181883</td>\n",
       "    </tr>\n",
       "    <tr>\n",
       "      <th>1</th>\n",
       "      <td>United States</td>\n",
       "      <td>24.000000</td>\n",
       "      <td>0.725070</td>\n",
       "    </tr>\n",
       "    <tr>\n",
       "      <th>2</th>\n",
       "      <td>Brazil</td>\n",
       "      <td>13.900000</td>\n",
       "      <td>0.653935</td>\n",
       "    </tr>\n",
       "    <tr>\n",
       "      <th>3</th>\n",
       "      <td>Indonesia</td>\n",
       "      <td>13.696000</td>\n",
       "      <td>0.500725</td>\n",
       "    </tr>\n",
       "    <tr>\n",
       "      <th>4</th>\n",
       "      <td>Mexico</td>\n",
       "      <td>7.800000</td>\n",
       "      <td>0.604967</td>\n",
       "    </tr>\n",
       "    <tr>\n",
       "      <th>...</th>\n",
       "      <td>...</td>\n",
       "      <td>...</td>\n",
       "      <td>...</td>\n",
       "    </tr>\n",
       "    <tr>\n",
       "      <th>223</th>\n",
       "      <td>Tuvalu</td>\n",
       "      <td>0.000170</td>\n",
       "      <td>0.144166</td>\n",
       "    </tr>\n",
       "    <tr>\n",
       "      <th>224</th>\n",
       "      <td>Niue</td>\n",
       "      <td>0.000082</td>\n",
       "      <td>0.504305</td>\n",
       "    </tr>\n",
       "    <tr>\n",
       "      <th>225</th>\n",
       "      <td>Tokelau</td>\n",
       "      <td>0.000041</td>\n",
       "      <td>0.302137</td>\n",
       "    </tr>\n",
       "    <tr>\n",
       "      <th>226</th>\n",
       "      <td>Vatican City</td>\n",
       "      <td>0.000002</td>\n",
       "      <td>0.024969</td>\n",
       "    </tr>\n",
       "    <tr>\n",
       "      <th>227</th>\n",
       "      <td>Cuba</td>\n",
       "      <td>NaN</td>\n",
       "      <td>NaN</td>\n",
       "    </tr>\n",
       "  </tbody>\n",
       "</table>\n",
       "<p>228 rows × 3 columns</p>\n",
       "</div>"
      ],
      "text/plain": [
       "           country  facebookUsersInMillion      rate\n",
       "0            India               25.100000  0.181883\n",
       "1    United States               24.000000  0.725070\n",
       "2           Brazil               13.900000  0.653935\n",
       "3        Indonesia               13.696000  0.500725\n",
       "4           Mexico                7.800000  0.604967\n",
       "..             ...                     ...       ...\n",
       "223         Tuvalu                0.000170  0.144166\n",
       "224           Niue                0.000082  0.504305\n",
       "225        Tokelau                0.000041  0.302137\n",
       "226   Vatican City                0.000002  0.024969\n",
       "227           Cuba                     NaN       NaN\n",
       "\n",
       "[228 rows x 3 columns]"
      ]
     },
     "execution_count": 9,
     "metadata": {},
     "output_type": "execute_result"
    }
   ],
   "source": [
    "df['rate'] = df['facebookUsersInMillion']/df['pop2020InMillion']\n",
    "df.to_excel('modified.xlsx')\n",
    "df = pd.read_excel('modified.xlsx', index=False) \n",
    "df[['country', 'facebookUsersInMillion', 'rate']]\n"
   ]
  },
  {
   "cell_type": "code",
   "execution_count": 10,
   "metadata": {},
   "outputs": [
    {
     "data": {
      "image/png": "[encoded data removed]",
      "text/plain": [
       "<Figure size 432x288 with 1 Axes>"
      ]
     },
     "metadata": {
      "needs_background": "light"
     },
     "output_type": "display_data"
    }
   ],
   "source": [
    "\n",
    "df['ratePecentage']=df['rate']*100\n",
    "df.to_excel('modified2.xlsx')\n",
    "topCountryUsers = df.head(10)\n",
    "df = pd.read_excel('modified2.xlsx', index=False) \n",
    "topCountryUsers.plot(kind='bar',x='country',y='ratePecentage',color='purple')\n",
    "plt.ylabel(\"How many percent of the population are facebook users %\")\n",
    "plt.show()"
   ]
  },
  {
   "cell_type": "markdown",
   "metadata": {},
   "source": [
    "Lets take a look at Facebook's revenue and user numbers from 2009 to 2018. First create a dataframe with the 'facebookRevenueUser.csv' file."
   ]
  },
  {
   "cell_type": "code",
   "execution_count": 11,
   "metadata": {},
   "outputs": [
    {
     "data": {
      "text/html": [
       "<div>\n",
       "<style scoped>\n",
       "    .dataframe tbody tr th:only-of-type {\n",
       "        vertical-align: middle;\n",
       "    }\n",
       "\n",
       "    .dataframe tbody tr th {\n",
       "        vertical-align: top;\n",
       "    }\n",
       "\n",
       "    .dataframe thead th {\n",
       "        text-align: right;\n",
       "    }\n",
       "</style>\n",
       "<table border=\"1\" class=\"dataframe\">\n",
       "  <thead>\n",
       "    <tr style=\"text-align: right;\">\n",
       "      <th></th>\n",
       "      <th>Year</th>\n",
       "      <th>revenue</th>\n",
       "      <th>monthlyUser</th>\n",
       "    </tr>\n",
       "  </thead>\n",
       "  <tbody>\n",
       "    <tr>\n",
       "      <th>0</th>\n",
       "      <td>2009</td>\n",
       "      <td>777</td>\n",
       "      <td>360</td>\n",
       "    </tr>\n",
       "    <tr>\n",
       "      <th>1</th>\n",
       "      <td>2010</td>\n",
       "      <td>1974</td>\n",
       "      <td>608</td>\n",
       "    </tr>\n",
       "    <tr>\n",
       "      <th>2</th>\n",
       "      <td>2011</td>\n",
       "      <td>3711</td>\n",
       "      <td>845</td>\n",
       "    </tr>\n",
       "    <tr>\n",
       "      <th>3</th>\n",
       "      <td>2012</td>\n",
       "      <td>5089</td>\n",
       "      <td>1056</td>\n",
       "    </tr>\n",
       "    <tr>\n",
       "      <th>4</th>\n",
       "      <td>2013</td>\n",
       "      <td>7872</td>\n",
       "      <td>1230</td>\n",
       "    </tr>\n",
       "    <tr>\n",
       "      <th>5</th>\n",
       "      <td>2014</td>\n",
       "      <td>12466</td>\n",
       "      <td>1320</td>\n",
       "    </tr>\n",
       "    <tr>\n",
       "      <th>6</th>\n",
       "      <td>2015</td>\n",
       "      <td>17928</td>\n",
       "      <td>1440</td>\n",
       "    </tr>\n",
       "    <tr>\n",
       "      <th>7</th>\n",
       "      <td>2016</td>\n",
       "      <td>27638</td>\n",
       "      <td>1740</td>\n",
       "    </tr>\n",
       "    <tr>\n",
       "      <th>8</th>\n",
       "      <td>2017</td>\n",
       "      <td>55838</td>\n",
       "      <td>2010</td>\n",
       "    </tr>\n",
       "    <tr>\n",
       "      <th>9</th>\n",
       "      <td>2018</td>\n",
       "      <td>70697</td>\n",
       "      <td>2320</td>\n",
       "    </tr>\n",
       "  </tbody>\n",
       "</table>\n",
       "</div>"
      ],
      "text/plain": [
       "   Year  revenue  monthlyUser\n",
       "0  2009      777          360\n",
       "1  2010     1974          608\n",
       "2  2011     3711          845\n",
       "3  2012     5089         1056\n",
       "4  2013     7872         1230\n",
       "5  2014    12466         1320\n",
       "6  2015    17928         1440\n",
       "7  2016    27638         1740\n",
       "8  2017    55838         2010\n",
       "9  2018    70697         2320"
      ]
     },
     "execution_count": 11,
     "metadata": {},
     "output_type": "execute_result"
    }
   ],
   "source": [
    "df = pd.read_excel('facebookRevenueUser.xlsx')\n",
    "df"
   ]
  },
  {
   "cell_type": "markdown",
   "metadata": {},
   "source": [
    "Plot in a graph the columns year and revenue. Then, plot in the same graph the columns year and monthlyUser. It should display separate lines for revenue and monthlyUser in one graph"
   ]
  },
  {
   "cell_type": "code",
   "execution_count": 12,
   "metadata": {},
   "outputs": [
    {
     "data": {
      "text/plain": [
       "Text(0, 0.5, 'Millions')"
      ]
     },
     "execution_count": 12,
     "metadata": {},
     "output_type": "execute_result"
    },
    {
     "data": {
      "image/png": "[encoded data removed]",
      "text/plain": [
       "<Figure size 432x288 with 1 Axes>"
      ]
     },
     "metadata": {
      "needs_background": "light"
     },
     "output_type": "display_data"
    }
   ],
   "source": [
    "ax = plt.gca()\n",
    "\n",
    "df.plot(kind='line',x='Year',y='revenue',ax=ax)\n",
    "df.plot(kind='line',x='Year',y='monthlyUser', color='red', ax=ax)\n",
    "plt.ylabel(\"Millions\")"
   ]
  },
  {
   "cell_type": "markdown",
   "metadata": {},
   "source": [
    "Why the revenue growth rate is much higher than user number growth? \n",
    "\n",
    "Resource:  https://www.statista.com/topics/751/facebook/\n",
    "\n",
    "Statement on Facebook data policy page: \n",
    "\"We work with third-party partners who help us provide and improve our Products or who use Facebook Business Tools to grow their businesses, which makes it possible to operate our companies and provide free services to people around the world.\""
   ]
  },
  {
   "cell_type": "markdown",
   "metadata": {},
   "source": [
    "Add a new column to the end of the facebook table. Then, for each row, calculate the revenue per user. In other words, approximately how much revenue facebook is getting for each user every year?"
   ]
  },
  {
   "cell_type": "code",
   "execution_count": 13,
   "metadata": {},
   "outputs": [],
   "source": [
    "# for each row divide the revenue into each monthlyUser"
   ]
  },
  {
   "cell_type": "markdown",
   "metadata": {},
   "source": [
    "Statement on Facebook help page: The Facebook Products include Facebook (including the Facebook mobile app and in-app browser), Messenger, Instagram (including apps like Boomerang), Portal-branded devices, Oculus Products (when using a Facebook account), Facebook Shops, Spark AR Studio, Audience Network, NPE Team apps and any other features, apps, technologies, software, products, or services offered by Facebook Inc. or Facebook Ireland Limited under our Data Policy. The Facebook Products also include Facebook Business Tools. https://www.matrics360.com/list-of-all-facebook-products-and-services/"
   ]
  },
  {
   "cell_type": "markdown",
   "metadata": {},
   "source": [
    "An article about Facebook by ROBINSON MEYER Everything We Know About Facebook's Secret Mood Manipulation Experiment It was probably legal. But was it ethical? https://www.theatlantic.com/technology/archive/2014/06/everything-we-know-about-facebooks-secret-mood-manipulation-experiment/373648/"
   ]
  },
  {
   "cell_type": "code",
   "execution_count": null,
   "metadata": {},
   "outputs": [],
   "source": []
  }
 ],
 "metadata": {
  "kernelspec": {
   "display_name": "Python 3",
   "language": "python",
   "name": "python3"
  },
  "language_info": {
   "codemirror_mode": {
    "name": "ipython",
    "version": 3
   },
   "file_extension": ".py",
   "mimetype": "text/x-python",
   "name": "python",
   "nbconvert_exporter": "python",
   "pygments_lexer": "ipython3",
   "version": "3.8.3"
  }
 },
 "nbformat": 4,
 "nbformat_minor": 4
}
