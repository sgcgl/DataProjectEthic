{
 "cells": [
  {
   "cell_type": "markdown",
   "metadata": {},
   "source": [
    "resource : https://worldpopulationreview.com/country-rankings/facebook-users-by-country\n",
    "\n"
   ]
  },
  {
   "cell_type": "code",
   "execution_count": 2,
   "metadata": {},
   "outputs": [],
   "source": [
    "import pandas as pd\n",
    "from datascience import *\n",
    "import numpy as np\n",
    "import matplotlib.pyplot as plt\n",
    "%matplotlib inline\n"
   ]
  },
  {
   "cell_type": "markdown",
   "metadata": {},
   "source": [
    "# Lab Ethic: Review \n",
    "\n",
    "Welcome to Lab Ethic Module!\n",
    "\n",
    "We are going to review the important concepts we have learned in previous class."
   ]
  },
  {
   "cell_type": "markdown",
   "metadata": {},
   "source": [
    "# 1. Array\n",
    "Calling the function make_array on several values places them into an array"
   ]
  },
  {
   "cell_type": "code",
   "execution_count": 6,
   "metadata": {},
   "outputs": [],
   "source": [
    "ages = make_array(32,42,54,28,45)\n",
    "ages\n",
    "# now you try it to make an array with company names\n",
    "companies=..."
   ]
  },
  {
   "cell_type": "markdown",
   "metadata": {},
   "source": [
    "Arrays can be used in arithmetic expressions to compute over their contents. When an array is combined with a single number, that number is combined with each element of the array. "
   ]
  },
  {
   "cell_type": "code",
   "execution_count": 7,
   "metadata": {},
   "outputs": [
    {
     "data": {
      "text/plain": [
       "Ellipsis"
      ]
     },
     "execution_count": 7,
     "metadata": {},
     "output_type": "execute_result"
    }
   ],
   "source": [
    "(ages+3)/2 \n",
    "#now you try to multiply each element by2 ,and subtract 3 \n",
    "..."
   ]
  },
  {
   "cell_type": "markdown",
   "metadata": {},
   "source": [
    "Arrays also have methods, which are functions that operate on the array values. We are going to call methods to answer each question"
   ]
  },
  {
   "cell_type": "code",
   "execution_count": null,
   "metadata": {},
   "outputs": [],
   "source": [
    "# How many elements in the array ages ?\n",
    "numberOfElements = ...\n"
   ]
  },
  {
   "cell_type": "code",
   "execution_count": null,
   "metadata": {},
   "outputs": [],
   "source": [
    "# what's the last element's index?\n",
    "last=..."
   ]
  },
  {
   "cell_type": "code",
   "execution_count": 8,
   "metadata": {},
   "outputs": [],
   "source": [
    "# What's the total age ?\n",
    "totalAge=..."
   ]
  },
  {
   "cell_type": "code",
   "execution_count": 10,
   "metadata": {},
   "outputs": [],
   "source": [
    "# What's the average age?\n",
    "averageAge=..."
   ]
  },
  {
   "cell_type": "code",
   "execution_count": 11,
   "metadata": {},
   "outputs": [
    {
     "data": {
      "text/plain": [
       "array([110, 130, 170, 210, 250])"
      ]
     },
     "execution_count": 11,
     "metadata": {},
     "output_type": "execute_result"
    }
   ],
   "source": [
    "#let's make two arrays\n",
    "firstArray = make_array(20,30,50,80,90)\n",
    "secondArray = make_array(90,100,120,130,160)\n",
    "# we can add each pair of elements in firstArray and secondArray \n",
    "total = firstArray +secondArray\n",
    "total\n",
    "# Make another array, it contains the differences between each pair of elements in firstArray and secondArray\n",
    "sub=...\n"
   ]
  },
  {
   "cell_type": "markdown",
   "metadata": {},
   "source": [
    "The numpy package, abbreviated np in programs, provides Python programmers with convenient and powerful functions for creating and manipulating arrays.\n",
    "For example, the diff function computes the difference between each adjacent pair of elements in an array. The first element of the diff is the second element minus the first."
   ]
  },
  {
   "cell_type": "code",
   "execution_count": null,
   "metadata": {},
   "outputs": [],
   "source": [
    "# There are a list of students numbers in a program in different years 30,45,64,70,78,83\n",
    "#use the numpy diff function to computer the difference between each adjacent pair of elements in the array\n",
    "\n",
    "differences = ..."
   ]
  },
  {
   "cell_type": "markdown",
   "metadata": {},
   "source": [
    "np.arange(start, end, step): A range with a difference of step between each pair of consecutive values, starting from start and stopping before end.\n",
    "\n"
   ]
  },
  {
   "cell_type": "code",
   "execution_count": null,
   "metadata": {},
   "outputs": [],
   "source": [
    "# use numpay arange function to create an array starts from 4, ends at 50, counts by 5\n",
    "skipsArray = ..."
   ]
  },
  {
   "cell_type": "markdown",
   "metadata": {},
   "source": [
    "# 2. Table and Visualization"
   ]
  },
  {
   "cell_type": "markdown",
   "metadata": {},
   "source": [
    "As one of the most popular social media platforms, Facebook has users across the world.\n",
    "\n",
    "read the 'FacebookUsersByCountry2020.csv' file, and display all the data"
   ]
  },
  {
   "cell_type": "code",
   "execution_count": 15,
   "metadata": {},
   "outputs": [
    {
     "data": {
      "text/html": [
       "<table border=\"1\" class=\"dataframe\">\n",
       "    <thead>\n",
       "        <tr>\n",
       "            <th>country</th> <th>facebookUsers</th> <th>pop2020</th>\n",
       "        </tr>\n",
       "    </thead>\n",
       "    <tbody>\n",
       "        <tr>\n",
       "            <td>India         </td> <td>2.51e+08     </td> <td>1.38e+06</td>\n",
       "        </tr>\n",
       "        <tr>\n",
       "            <td>United States </td> <td>2.4e+08      </td> <td>331003  </td>\n",
       "        </tr>\n",
       "        <tr>\n",
       "            <td>Brazil        </td> <td>1.39e+08     </td> <td>212559  </td>\n",
       "        </tr>\n",
       "        <tr>\n",
       "            <td>Indonesia     </td> <td>1.3696e+08   </td> <td>273524  </td>\n",
       "        </tr>\n",
       "        <tr>\n",
       "            <td>Mexico        </td> <td>7.8e+07      </td> <td>128933  </td>\n",
       "        </tr>\n",
       "        <tr>\n",
       "            <td>Philippines   </td> <td>7.176e+07    </td> <td>109581  </td>\n",
       "        </tr>\n",
       "        <tr>\n",
       "            <td>Vietnam       </td> <td>6.672e+07    </td> <td>97338.6 </td>\n",
       "        </tr>\n",
       "        <tr>\n",
       "            <td>Thailand      </td> <td>4.6e+07      </td> <td>69800   </td>\n",
       "        </tr>\n",
       "        <tr>\n",
       "            <td>United Kingdom</td> <td>4.4e+07      </td> <td>67886   </td>\n",
       "        </tr>\n",
       "        <tr>\n",
       "            <td>Turkey        </td> <td>4.4e+07      </td> <td>84339.1 </td>\n",
       "        </tr>\n",
       "    </tbody>\n",
       "</table>\n",
       "<p>... (218 rows omitted)</p>"
      ],
      "text/plain": [
       "country        | facebookUsers | pop2020\n",
       "India          | 2.51e+08      | 1.38e+06\n",
       "United States  | 2.4e+08       | 331003\n",
       "Brazil         | 1.39e+08      | 212559\n",
       "Indonesia      | 1.3696e+08    | 273524\n",
       "Mexico         | 7.8e+07       | 128933\n",
       "Philippines    | 7.176e+07     | 109581\n",
       "Vietnam        | 6.672e+07     | 97338.6\n",
       "Thailand       | 4.6e+07       | 69800\n",
       "United Kingdom | 4.4e+07       | 67886\n",
       "Turkey         | 4.4e+07       | 84339.1\n",
       "... (218 rows omitted)"
      ]
     },
     "execution_count": 15,
     "metadata": {},
     "output_type": "execute_result"
    }
   ],
   "source": [
    "\n",
    "\n",
    "df= Table.read_table('FacebookUsersByCountry2020.csv')\n",
    "df"
   ]
  },
  {
   "cell_type": "markdown",
   "metadata": {},
   "source": [
    "The numbers are too big, and they are displayed in a scientific notation. Let's make the units in millions"
   ]
  },
  {
   "cell_type": "code",
   "execution_count": 21,
   "metadata": {},
   "outputs": [
    {
     "data": {
      "text/html": [
       "<table border=\"1\" class=\"dataframe\">\n",
       "    <thead>\n",
       "        <tr>\n",
       "            <th>country</th> <th>fbUsers</th> <th>pop</th>\n",
       "        </tr>\n",
       "    </thead>\n",
       "    <tbody>\n",
       "        <tr>\n",
       "            <td>India         </td> <td>25.1   </td> <td>1380   </td>\n",
       "        </tr>\n",
       "        <tr>\n",
       "            <td>United States </td> <td>24     </td> <td>331.003</td>\n",
       "        </tr>\n",
       "        <tr>\n",
       "            <td>Brazil        </td> <td>13.9   </td> <td>212.559</td>\n",
       "        </tr>\n",
       "        <tr>\n",
       "            <td>Indonesia     </td> <td>13.696 </td> <td>273.524</td>\n",
       "        </tr>\n",
       "        <tr>\n",
       "            <td>Mexico        </td> <td>7.8    </td> <td>128.933</td>\n",
       "        </tr>\n",
       "        <tr>\n",
       "            <td>Philippines   </td> <td>7.176  </td> <td>109.581</td>\n",
       "        </tr>\n",
       "        <tr>\n",
       "            <td>Vietnam       </td> <td>6.672  </td> <td>97.3386</td>\n",
       "        </tr>\n",
       "        <tr>\n",
       "            <td>Thailand      </td> <td>4.6    </td> <td>69.8   </td>\n",
       "        </tr>\n",
       "        <tr>\n",
       "            <td>United Kingdom</td> <td>4.4    </td> <td>67.886 </td>\n",
       "        </tr>\n",
       "        <tr>\n",
       "            <td>Turkey        </td> <td>4.4    </td> <td>84.3391</td>\n",
       "        </tr>\n",
       "    </tbody>\n",
       "</table>\n",
       "<p>... (218 rows omitted)</p>"
      ],
      "text/plain": [
       "country        | fbUsers | pop\n",
       "India          | 25.1    | 1380\n",
       "United States  | 24      | 331.003\n",
       "Brazil         | 13.9    | 212.559\n",
       "Indonesia      | 13.696  | 273.524\n",
       "Mexico         | 7.8     | 128.933\n",
       "Philippines    | 7.176   | 109.581\n",
       "Vietnam        | 6.672   | 97.3386\n",
       "Thailand       | 4.6     | 69.8\n",
       "United Kingdom | 4.4     | 67.886\n",
       "Turkey         | 4.4     | 84.3391\n",
       "... (218 rows omitted)"
      ]
     },
     "execution_count": 21,
     "metadata": {},
     "output_type": "execute_result"
    }
   ],
   "source": [
    "\n",
    "#create another array to display the numbers in millions units\n",
    "#create an new table with 3 columns from df table: 'country', 'facebookUsers', 'pop2020', \n",
    "#rename them 'country','fbUsers' 'pop'\n",
    "countryArray= df.column('country')\n",
    "userArray=df.column('facebookUsers') / 10000000 \n",
    "popArray = df.column('pop2020')/1000                     \n",
    "myTable = Table().with_columns('country',countryArray,'fbUsers',userArray,'pop',popArray)\n",
    "myTable\n",
    "#df= df[['country', 'facebookUsersInMillion', 'pop2020InMillion']]"
   ]
  },
  {
   "cell_type": "code",
   "execution_count": null,
   "metadata": {},
   "outputs": [],
   "source": [
    "# now you calculate the percentage of population using Facebook in each country on the list\n",
    "fbUserPercentages=..."
   ]
  },
  {
   "cell_type": "code",
   "execution_count": 31,
   "metadata": {},
   "outputs": [
    {
     "data": {
      "text/plain": [
       "228"
      ]
     },
     "execution_count": 31,
     "metadata": {},
     "output_type": "execute_result"
    }
   ],
   "source": [
    "rowNumbers= myTable.num_rows \n",
    "rowNumbers"
   ]
  },
  {
   "cell_type": "code",
   "execution_count": 36,
   "metadata": {},
   "outputs": [
    {
     "data": {
      "image/png": "[encoded data removed]",
      "text/plain": [
       "<Figure size 432x360 with 1 Axes>"
      ]
     },
     "metadata": {
      "needs_background": "light"
     },
     "output_type": "display_data"
    }
   ],
   "source": [
    "# let's sort the data in pop column with descending ordern and\n",
    "myTable.sort('pop',descending=True)\n",
    "#the table has too many rows, let's only take top ten country \n",
    "shortTable=myTable.take(np.arange(0, 10))\n",
    "#create a bar graph to represent country and pop\n",
    "shortTable.barh('country','pop')\n"
   ]
  },
  {
   "cell_type": "code",
   "execution_count": null,
   "metadata": {},
   "outputs": [],
   "source": [
    "#now you sort the data in fbUsers column with descending order and\n",
    "...\n",
    "#take top 15 country data, and make a new table name top\n",
    "top=...\n",
    "#create a bar graph to represent country and fbUsers\n",
    "..."
   ]
  },
  {
   "cell_type": "markdown",
   "metadata": {},
   "source": [
    "Now, display the percentage of facebookUsers in each country based on their respective population."
   ]
  },
  {
   "cell_type": "code",
   "execution_count": 42,
   "metadata": {},
   "outputs": [
    {
     "data": {
      "text/html": [
       "<table border=\"1\" class=\"dataframe\">\n",
       "    <thead>\n",
       "        <tr>\n",
       "            <th>country</th> <th>fbUsers</th> <th>pop</th> <th>rate</th>\n",
       "        </tr>\n",
       "    </thead>\n",
       "    <tbody>\n",
       "        <tr>\n",
       "            <td>United States </td> <td>24     </td> <td>331.003</td> <td>7.2507 </td>\n",
       "        </tr>\n",
       "        <tr>\n",
       "            <td>Brazil        </td> <td>13.9   </td> <td>212.559</td> <td>6.53935</td>\n",
       "        </tr>\n",
       "        <tr>\n",
       "            <td>Indonesia     </td> <td>13.696 </td> <td>273.524</td> <td>5.00725</td>\n",
       "        </tr>\n",
       "        <tr>\n",
       "            <td>Mexico        </td> <td>7.8    </td> <td>128.933</td> <td>6.04967</td>\n",
       "        </tr>\n",
       "        <tr>\n",
       "            <td>Philippines   </td> <td>7.176  </td> <td>109.581</td> <td>6.54858</td>\n",
       "        </tr>\n",
       "        <tr>\n",
       "            <td>Vietnam       </td> <td>6.672  </td> <td>97.3386</td> <td>6.85443</td>\n",
       "        </tr>\n",
       "        <tr>\n",
       "            <td>Thailand      </td> <td>4.6    </td> <td>69.8   </td> <td>6.59026</td>\n",
       "        </tr>\n",
       "        <tr>\n",
       "            <td>United Kingdom</td> <td>4.4    </td> <td>67.886 </td> <td>6.48145</td>\n",
       "        </tr>\n",
       "        <tr>\n",
       "            <td>Turkey        </td> <td>4.4    </td> <td>84.3391</td> <td>5.21704</td>\n",
       "        </tr>\n",
       "        <tr>\n",
       "            <td>Egypt         </td> <td>4.24   </td> <td>102.334</td> <td>4.14328</td>\n",
       "        </tr>\n",
       "    </tbody>\n",
       "</table>\n",
       "<p>... (217 rows omitted)</p>"
      ],
      "text/plain": [
       "country        | fbUsers | pop     | rate\n",
       "United States  | 24      | 331.003 | 7.2507\n",
       "Brazil         | 13.9    | 212.559 | 6.53935\n",
       "Indonesia      | 13.696  | 273.524 | 5.00725\n",
       "Mexico         | 7.8     | 128.933 | 6.04967\n",
       "Philippines    | 7.176   | 109.581 | 6.54858\n",
       "Vietnam        | 6.672   | 97.3386 | 6.85443\n",
       "Thailand       | 4.6     | 69.8    | 6.59026\n",
       "United Kingdom | 4.4     | 67.886  | 6.48145\n",
       "Turkey         | 4.4     | 84.3391 | 5.21704\n",
       "Egypt          | 4.24    | 102.334 | 4.14328\n",
       "... (217 rows omitted)"
      ]
     },
     "execution_count": 42,
     "metadata": {},
     "output_type": "execute_result"
    }
   ],
   "source": [
    "#create an new array to store the percentages \n",
    "rateArray = (myTable.column('fbUsers')/myTable.column('pop'))*100\n",
    "# add the array to myTable\n",
    "tableWithRate=myTable.with_column('rate',rateArray)\n",
    "#sort the table in rate column with descending order and\n",
    "#get top 10 \n",
    "tableWithRate.sort('rate',descending=True).take(np.arange(0,10))\n",
    "#delete the first row\n",
    "sortedTable= tableWithRate.remove(0)\n",
    "sortedTable"
   ]
  },
  {
   "cell_type": "code",
   "execution_count": null,
   "metadata": {},
   "outputs": [],
   "source": [
    "# now you crate an graph to represent the data in sortedTable\n",
    "..."
   ]
  },
  {
   "cell_type": "markdown",
   "metadata": {},
   "source": [
    "Lets take a look at Facebook's revenue and user numbers from 2009 to 2018. First create a dataframe with the 'facebookRevenueUser.csv' file."
   ]
  },
  {
   "cell_type": "code",
   "execution_count": 43,
   "metadata": {},
   "outputs": [
    {
     "data": {
      "text/html": [
       "<div>\n",
       "<style scoped>\n",
       "    .dataframe tbody tr th:only-of-type {\n",
       "        vertical-align: middle;\n",
       "    }\n",
       "\n",
       "    .dataframe tbody tr th {\n",
       "        vertical-align: top;\n",
       "    }\n",
       "\n",
       "    .dataframe thead th {\n",
       "        text-align: right;\n",
       "    }\n",
       "</style>\n",
       "<table border=\"1\" class=\"dataframe\">\n",
       "  <thead>\n",
       "    <tr style=\"text-align: right;\">\n",
       "      <th></th>\n",
       "      <th>Year</th>\n",
       "      <th>revenue</th>\n",
       "      <th>monthlyUser</th>\n",
       "    </tr>\n",
       "  </thead>\n",
       "  <tbody>\n",
       "    <tr>\n",
       "      <th>0</th>\n",
       "      <td>2009</td>\n",
       "      <td>777</td>\n",
       "      <td>360</td>\n",
       "    </tr>\n",
       "    <tr>\n",
       "      <th>1</th>\n",
       "      <td>2010</td>\n",
       "      <td>1974</td>\n",
       "      <td>608</td>\n",
       "    </tr>\n",
       "    <tr>\n",
       "      <th>2</th>\n",
       "      <td>2011</td>\n",
       "      <td>3711</td>\n",
       "      <td>845</td>\n",
       "    </tr>\n",
       "    <tr>\n",
       "      <th>3</th>\n",
       "      <td>2012</td>\n",
       "      <td>5089</td>\n",
       "      <td>1056</td>\n",
       "    </tr>\n",
       "    <tr>\n",
       "      <th>4</th>\n",
       "      <td>2013</td>\n",
       "      <td>7872</td>\n",
       "      <td>1230</td>\n",
       "    </tr>\n",
       "    <tr>\n",
       "      <th>5</th>\n",
       "      <td>2014</td>\n",
       "      <td>12466</td>\n",
       "      <td>1320</td>\n",
       "    </tr>\n",
       "    <tr>\n",
       "      <th>6</th>\n",
       "      <td>2015</td>\n",
       "      <td>17928</td>\n",
       "      <td>1440</td>\n",
       "    </tr>\n",
       "    <tr>\n",
       "      <th>7</th>\n",
       "      <td>2016</td>\n",
       "      <td>27638</td>\n",
       "      <td>1740</td>\n",
       "    </tr>\n",
       "    <tr>\n",
       "      <th>8</th>\n",
       "      <td>2017</td>\n",
       "      <td>55838</td>\n",
       "      <td>2010</td>\n",
       "    </tr>\n",
       "    <tr>\n",
       "      <th>9</th>\n",
       "      <td>2018</td>\n",
       "      <td>70697</td>\n",
       "      <td>2320</td>\n",
       "    </tr>\n",
       "  </tbody>\n",
       "</table>\n",
       "</div>"
      ],
      "text/plain": [
       "   Year  revenue  monthlyUser\n",
       "0  2009      777          360\n",
       "1  2010     1974          608\n",
       "2  2011     3711          845\n",
       "3  2012     5089         1056\n",
       "4  2013     7872         1230\n",
       "5  2014    12466         1320\n",
       "6  2015    17928         1440\n",
       "7  2016    27638         1740\n",
       "8  2017    55838         2010\n",
       "9  2018    70697         2320"
      ]
     },
     "execution_count": 43,
     "metadata": {},
     "output_type": "execute_result"
    }
   ],
   "source": [
    "df = pd.read_excel('facebookRevenueUser.xlsx') # this is using panada library to open a file\n",
    "df"
   ]
  },
  {
   "cell_type": "code",
   "execution_count": 47,
   "metadata": {},
   "outputs": [
    {
     "data": {
      "text/plain": [
       "<AxesSubplot:xlabel='Year'>"
      ]
     },
     "execution_count": 47,
     "metadata": {},
     "output_type": "execute_result"
    },
    {
     "data": {
      "image/png": "[encoded data removed]",
      "text/plain": [
       "<Figure size 432x288 with 1 Axes>"
      ]
     },
     "metadata": {
      "needs_background": "light"
     },
     "output_type": "display_data"
    }
   ],
   "source": [
    "# create a plot to show the chronological trends and patterns of monthlyUser\n",
    "df.plot('Year','monthlyUser')"
   ]
  },
  {
   "cell_type": "markdown",
   "metadata": {},
   "source": [
    "Plot in a graph the columns year and revenue. Then, plot in the same graph the columns year and monthlyUser. It should display separate lines for revenue and monthlyUser in one graph"
   ]
  },
  {
   "cell_type": "code",
   "execution_count": null,
   "metadata": {},
   "outputs": [],
   "source": [
    "#now you create a plot  to shoe the chronological trends and patterns of revenue\n",
    "..."
   ]
  },
  {
   "cell_type": "code",
   "execution_count": 44,
   "metadata": {},
   "outputs": [
    {
     "data": {
      "text/plain": [
       "Text(0, 0.5, 'Millions')"
      ]
     },
     "execution_count": 44,
     "metadata": {},
     "output_type": "execute_result"
    },
    {
     "data": {
      "image/png": "[encoded data removed]",
      "text/plain": [
       "<Figure size 432x288 with 1 Axes>"
      ]
     },
     "metadata": {
      "needs_background": "light"
     },
     "output_type": "display_data"
    }
   ],
   "source": [
    "# We use panda to show the revenue and monthlyUser on a same plot graph\n",
    "ax = plt.gca()\n",
    "df.plot(kind='line',x='Year',y='revenue',ax=ax)\n",
    "df.plot(kind='line',x='Year',y='monthlyUser', color='red', ax=ax)\n",
    "plt.ylabel(\"Millions\")\n"
   ]
  },
  {
   "cell_type": "code",
   "execution_count": null,
   "metadata": {},
   "outputs": [],
   "source": [
    "# what do you think the above graph can tell us ? Why the revenue growth rate is much higher than user number growth? \n",
    "..."
   ]
  },
  {
   "cell_type": "markdown",
   "metadata": {},
   "source": [
    "Optional Task: Add a new column to the end of the facebook table. Then, for each row, calculate the revenue per user. In other words, approximately how much revenue facebook is getting for each user every year?"
   ]
  },
  {
   "cell_type": "code",
   "execution_count": 45,
   "metadata": {},
   "outputs": [],
   "source": [
    "# for each row divide the revenue into each monthlyUser\n",
    "..."
   ]
  },
  {
   "cell_type": "markdown",
   "metadata": {},
   "source": [
    "An article about Facebook by ROBINSON MEYER Everything We Know About Facebook's Secret Mood Manipulation Experiment It was probably legal. But was it ethical? \n",
    "\n",
    "https://www.theatlantic.com/technology/archive/2014/06/everything-we-know-about-facebooks-secret-mood-manipulation-experiment/373648/"
   ]
  },
  {
   "cell_type": "markdown",
   "metadata": {},
   "source": [
    "Statement on Facebook help page: The Facebook Products include Facebook (including the Facebook mobile app and in-app browser), Messenger, Instagram (including apps like Boomerang), Portal-branded devices, Oculus Products (when using a Facebook account), Facebook Shops, Spark AR Studio, Audience Network, NPE Team apps and any other features, apps, technologies, software, products, or services offered by Facebook Inc. or Facebook Ireland Limited under our Data Policy. The Facebook Products also include Facebook Business Tools.\n",
    "\n",
    "https://www.matrics360.com/list-of-all-facebook-products-and-services/"
   ]
  },
  {
   "cell_type": "markdown",
   "metadata": {},
   "source": [
    "\n",
    "Resource we used in this lab:\n",
    "\n",
    "https://www.statista.com/topics/751/facebook/  \n",
    "\n",
    "https://www.inferentialthinking.com/chapters/07/Visualization.html\n",
    "\n",
    "https://www.theatlantic.com/technology/archive/2014/06/everything-we-know-about-facebooks-secret-mood-manipulation-experiment/373648/\n",
    "\n",
    "https://www.matrics360.com/list-of-all-facebook-products-and-services/"
   ]
  }
 ],
 "metadata": {
  "kernelspec": {
   "display_name": "Python 3",
   "language": "python",
   "name": "python3"
  },
  "language_info": {
   "codemirror_mode": {
    "name": "ipython",
    "version": 3
   },
   "file_extension": ".py",
   "mimetype": "text/x-python",
   "name": "python",
   "nbconvert_exporter": "python",
   "pygments_lexer": "ipython3",
   "version": "3.8.5"
  }
 },
 "nbformat": 4,
 "nbformat_minor": 4
}
